{
 "cells": [
  {
   "cell_type": "markdown",
   "metadata": {},
   "source": [
    "# Test utilisation Ray[rllib]"
   ]
  },
  {
   "cell_type": "code",
   "execution_count": 2,
   "metadata": {},
   "outputs": [
    {
     "name": "stderr",
     "output_type": "stream",
     "text": [
      "c:\\Users\\p.archipczuk\\AppData\\Local\\anaconda3\\envs\\RL\\Lib\\site-packages\\tqdm\\auto.py:21: TqdmWarning: IProgress not found. Please update jupyter and ipywidgets. See https://ipywidgets.readthedocs.io/en/stable/user_install.html\n",
      "  from .autonotebook import tqdm as notebook_tqdm\n",
      "2024-06-24 11:05:01,231\tINFO util.py:154 -- Missing packages: ['ipywidgets']. Run `pip install -U ipywidgets`, then restart the notebook server for rich notebook output.\n",
      "2024-06-24 11:05:01,664\tINFO util.py:154 -- Missing packages: ['ipywidgets']. Run `pip install -U ipywidgets`, then restart the notebook server for rich notebook output.\n"
     ]
    }
   ],
   "source": [
    "import ray\n",
    "from ray import tune\n",
    "import os"
   ]
  },
  {
   "cell_type": "code",
   "execution_count": 79,
   "metadata": {},
   "outputs": [
    {
     "name": "stderr",
     "output_type": "stream",
     "text": [
      "2024-06-24 11:41:51,508\tINFO worker.py:1761 -- Started a local Ray instance. View the dashboard at \u001b[1m\u001b[32mhttp://127.0.0.1:8265 \u001b[39m\u001b[22m\n"
     ]
    },
    {
     "data": {
      "text/html": [
       "<div class=\"lm-Widget p-Widget lm-Panel p-Panel jp-Cell-outputWrapper\">\n",
       "    <div style=\"margin-left: 50px;display: flex;flex-direction: row;align-items: center\">\n",
       "        <div class=\"jp-RenderedHTMLCommon\" style=\"display: flex; flex-direction: row;\">\n",
       "  <svg viewBox=\"0 0 567 224\" fill=\"none\" xmlns=\"http://www.w3.org/2000/svg\" style=\"height: 3em;\">\n",
       "    <g clip-path=\"url(#clip0_4338_178347)\">\n",
       "        <path d=\"M341.29 165.561H355.29L330.13 129.051C345.63 123.991 354.21 112.051 354.21 94.2307C354.21 71.3707 338.72 58.1807 311.88 58.1807H271V165.561H283.27V131.661H311.8C314.25 131.661 316.71 131.501 319.01 131.351L341.25 165.561H341.29ZM283.29 119.851V70.0007H311.82C331.3 70.0007 342.34 78.2907 342.34 94.5507C342.34 111.271 331.34 119.861 311.82 119.861L283.29 119.851ZM451.4 138.411L463.4 165.561H476.74L428.74 58.1807H416L367.83 165.561H380.83L392.83 138.411H451.4ZM446.19 126.601H398L422 72.1407L446.24 126.601H446.19ZM526.11 128.741L566.91 58.1807H554.35L519.99 114.181L485.17 58.1807H472.44L514.01 129.181V165.541H526.13V128.741H526.11Z\" fill=\"var(--jp-ui-font-color0)\"/>\n",
       "        <path d=\"M82.35 104.44C84.0187 97.8827 87.8248 92.0678 93.1671 87.9146C98.5094 83.7614 105.083 81.5067 111.85 81.5067C118.617 81.5067 125.191 83.7614 130.533 87.9146C135.875 92.0678 139.681 97.8827 141.35 104.44H163.75C164.476 101.562 165.622 98.8057 167.15 96.2605L127.45 56.5605C121.071 60.3522 113.526 61.6823 106.235 60.3005C98.9443 58.9187 92.4094 54.9203 87.8602 49.0574C83.3109 43.1946 81.0609 35.8714 81.5332 28.4656C82.0056 21.0599 85.1679 14.0819 90.4252 8.8446C95.6824 3.60726 102.672 0.471508 110.08 0.0272655C117.487 -0.416977 124.802 1.86091 130.647 6.4324C136.493 11.0039 140.467 17.5539 141.821 24.8501C143.175 32.1463 141.816 39.6859 138 46.0505L177.69 85.7505C182.31 82.9877 187.58 81.4995 192.962 81.4375C198.345 81.3755 203.648 82.742 208.33 85.3976C213.012 88.0532 216.907 91.9029 219.616 96.5544C222.326 101.206 223.753 106.492 223.753 111.875C223.753 117.258 222.326 122.545 219.616 127.197C216.907 131.848 213.012 135.698 208.33 138.353C203.648 141.009 198.345 142.375 192.962 142.313C187.58 142.251 182.31 140.763 177.69 138L138 177.7C141.808 184.071 143.155 191.614 141.79 198.91C140.424 206.205 136.44 212.75 130.585 217.313C124.731 221.875 117.412 224.141 110.004 223.683C102.596 223.226 95.6103 220.077 90.3621 214.828C85.1139 209.58 81.9647 202.595 81.5072 195.187C81.0497 187.779 83.3154 180.459 87.878 174.605C92.4405 168.751 98.9853 164.766 106.281 163.401C113.576 162.035 121.119 163.383 127.49 167.19L167.19 127.49C165.664 124.941 164.518 122.182 163.79 119.3H141.39C139.721 125.858 135.915 131.673 130.573 135.826C125.231 139.98 118.657 142.234 111.89 142.234C105.123 142.234 98.5494 139.98 93.2071 135.826C87.8648 131.673 84.0587 125.858 82.39 119.3H60C58.1878 126.495 53.8086 132.78 47.6863 136.971C41.5641 141.163 34.1211 142.972 26.7579 142.059C19.3947 141.146 12.6191 137.574 7.70605 132.014C2.79302 126.454 0.0813599 119.29 0.0813599 111.87C0.0813599 104.451 2.79302 97.2871 7.70605 91.7272C12.6191 86.1673 19.3947 82.5947 26.7579 81.6817C34.1211 80.7686 41.5641 82.5781 47.6863 86.7696C53.8086 90.9611 58.1878 97.2456 60 104.44H82.35ZM100.86 204.32C103.407 206.868 106.759 208.453 110.345 208.806C113.93 209.159 117.527 208.258 120.522 206.256C123.517 204.254 125.725 201.276 126.771 197.828C127.816 194.38 127.633 190.677 126.253 187.349C124.874 184.021 122.383 181.274 119.205 179.577C116.027 177.88 112.359 177.337 108.826 178.042C105.293 178.746 102.113 180.654 99.8291 183.44C97.5451 186.226 96.2979 189.718 96.3 193.32C96.2985 195.364 96.7006 197.388 97.4831 199.275C98.2656 201.163 99.4132 202.877 100.86 204.32ZM204.32 122.88C206.868 120.333 208.453 116.981 208.806 113.396C209.159 109.811 208.258 106.214 206.256 103.219C204.254 100.223 201.275 98.0151 197.827 96.97C194.38 95.9249 190.676 96.1077 187.348 97.4873C184.02 98.8669 181.274 101.358 179.577 104.536C177.879 107.714 177.337 111.382 178.041 114.915C178.746 118.448 180.653 121.627 183.439 123.911C186.226 126.195 189.717 127.443 193.32 127.44C195.364 127.443 197.388 127.042 199.275 126.259C201.163 125.476 202.878 124.328 204.32 122.88ZM122.88 19.4205C120.333 16.8729 116.981 15.2876 113.395 14.9347C109.81 14.5817 106.213 15.483 103.218 17.4849C100.223 19.4868 98.0146 22.4654 96.9696 25.9131C95.9245 29.3608 96.1073 33.0642 97.4869 36.3922C98.8665 39.7202 101.358 42.4668 104.535 44.1639C107.713 45.861 111.381 46.4036 114.914 45.6992C118.447 44.9949 121.627 43.0871 123.911 40.301C126.195 37.515 127.442 34.0231 127.44 30.4205C127.44 28.3772 127.038 26.3539 126.255 24.4664C125.473 22.5788 124.326 20.8642 122.88 19.4205ZM19.42 100.86C16.8725 103.408 15.2872 106.76 14.9342 110.345C14.5813 113.93 15.4826 117.527 17.4844 120.522C19.4863 123.518 22.4649 125.726 25.9127 126.771C29.3604 127.816 33.0638 127.633 36.3918 126.254C39.7198 124.874 42.4664 122.383 44.1635 119.205C45.8606 116.027 46.4032 112.359 45.6988 108.826C44.9944 105.293 43.0866 102.114 40.3006 99.8296C37.5145 97.5455 34.0227 96.2983 30.42 96.3005C26.2938 96.3018 22.337 97.9421 19.42 100.86ZM100.86 100.86C98.3125 103.408 96.7272 106.76 96.3742 110.345C96.0213 113.93 96.9226 117.527 98.9244 120.522C100.926 123.518 103.905 125.726 107.353 126.771C110.8 127.816 114.504 127.633 117.832 126.254C121.16 124.874 123.906 122.383 125.604 119.205C127.301 116.027 127.843 112.359 127.139 108.826C126.434 105.293 124.527 102.114 121.741 99.8296C118.955 97.5455 115.463 96.2983 111.86 96.3005C109.817 96.299 107.793 96.701 105.905 97.4835C104.018 98.2661 102.303 99.4136 100.86 100.86Z\" fill=\"#00AEEF\"/>\n",
       "    </g>\n",
       "    <defs>\n",
       "        <clipPath id=\"clip0_4338_178347\">\n",
       "            <rect width=\"566.93\" height=\"223.75\" fill=\"white\"/>\n",
       "        </clipPath>\n",
       "    </defs>\n",
       "  </svg>\n",
       "</div>\n",
       "\n",
       "        <table class=\"jp-RenderedHTMLCommon\" style=\"border-collapse: collapse;color: var(--jp-ui-font-color1);font-size: var(--jp-ui-font-size1);\">\n",
       "    <tr>\n",
       "        <td style=\"text-align: left\"><b>Python version:</b></td>\n",
       "        <td style=\"text-align: left\"><b>3.11.7</b></td>\n",
       "    </tr>\n",
       "    <tr>\n",
       "        <td style=\"text-align: left\"><b>Ray version:</b></td>\n",
       "        <td style=\"text-align: left\"><b>2.30.0</b></td>\n",
       "    </tr>\n",
       "    <tr>\n",
       "    <td style=\"text-align: left\"><b>Dashboard:</b></td>\n",
       "    <td style=\"text-align: left\"><b><a href=\"http://127.0.0.1:8265\" target=\"_blank\">http://127.0.0.1:8265</a></b></td>\n",
       "</tr>\n",
       "\n",
       "</table>\n",
       "\n",
       "    </div>\n",
       "</div>\n"
      ],
      "text/plain": [
       "RayContext(dashboard_url='127.0.0.1:8265', python_version='3.11.7', ray_version='2.30.0', ray_commit='97c37298df9e997b86ca9efed824e27024f3bd60')"
      ]
     },
     "execution_count": 79,
     "metadata": {},
     "output_type": "execute_result"
    },
    {
     "name": "stderr",
     "output_type": "stream",
     "text": [
      "\u001b[36m(PPO pid=11880)\u001b[0m Error: File '..\\data\\networks\\2way-single-intersection\\single-intersection.net.xml' is not accessible (No such file or directory).\n",
      "\u001b[36m(PPO pid=11880)\u001b[0m Quitting (on error).\n",
      "\u001b[36m(PPO pid=11880)\u001b[0m Exception raised in creation task: The actor died because of an error raised in its creation task, \u001b[36mray::PPO.__init__()\u001b[39m (pid=11880, ip=127.0.0.1, actor_id=aa1fe55c022c96af1f42e7e801000000, repr=PPO)\n",
      "\u001b[36m(PPO pid=11880)\u001b[0m   File \"python\\ray\\_raylet.pyx\", line 1893, in ray._raylet.execute_task\n",
      "\u001b[36m(PPO pid=11880)\u001b[0m   File \"python\\ray\\_raylet.pyx\", line 1834, in ray._raylet.execute_task.function_executor\n",
      "\u001b[36m(PPO pid=11880)\u001b[0m   File \"c:\\Users\\p.archipczuk\\AppData\\Local\\anaconda3\\envs\\RL\\Lib\\site-packages\\ray\\_private\\function_manager.py\", line 691, in actor_method_executor\n",
      "\u001b[36m(PPO pid=11880)\u001b[0m     return method(__ray_actor, *args, **kwargs)\n",
      "\u001b[36m(PPO pid=11880)\u001b[0m            ^^^^^^^^^^^^^^^^^^^^^^^^^^^^^^^^^^^^\n",
      "\u001b[36m(PPO pid=11880)\u001b[0m   File \"c:\\Users\\p.archipczuk\\AppData\\Local\\anaconda3\\envs\\RL\\Lib\\site-packages\\ray\\util\\tracing\\tracing_helper.py\", line 467, in _resume_span\n",
      "\u001b[36m(PPO pid=11880)\u001b[0m     return method(self, *_args, **_kwargs)\n",
      "\u001b[36m(PPO pid=11880)\u001b[0m            ^^^^^^^^^^^^^^^^^^^^^^^^^^^^^^^\n",
      "\u001b[36m(PPO pid=11880)\u001b[0m   File \"c:\\Users\\p.archipczuk\\AppData\\Local\\anaconda3\\envs\\RL\\Lib\\site-packages\\ray\\rllib\\algorithms\\algorithm.py\", line 554, in __init__\n",
      "\u001b[36m(PPO pid=11880)\u001b[0m     super().__init__(\n",
      "\u001b[36m(PPO pid=11880)\u001b[0m   File \"c:\\Users\\p.archipczuk\\AppData\\Local\\anaconda3\\envs\\RL\\Lib\\site-packages\\ray\\tune\\trainable\\trainable.py\", line 158, in __init__\n",
      "\u001b[36m(PPO pid=11880)\u001b[0m     self.setup(copy.deepcopy(self.config))\n",
      "\u001b[36m(PPO pid=11880)\u001b[0m   File \"c:\\Users\\p.archipczuk\\AppData\\Local\\anaconda3\\envs\\RL\\Lib\\site-packages\\ray\\util\\tracing\\tracing_helper.py\", line 467, in _resume_span\n",
      "\u001b[36m(PPO pid=11880)\u001b[0m     return method(self, *_args, **_kwargs)\n",
      "\u001b[36m(PPO pid=11880)\u001b[0m            ^^^^^^^^^^^^^^^^^^^^^^^^^^^^^^^\n",
      "\u001b[36m(PPO pid=11880)\u001b[0m   File \"c:\\Users\\p.archipczuk\\AppData\\Local\\anaconda3\\envs\\RL\\Lib\\site-packages\\ray\\rllib\\algorithms\\algorithm.py\", line 640, in setup\n",
      "\u001b[36m(PPO pid=11880)\u001b[0m     self.workers = EnvRunnerGroup(\n",
      "\u001b[36m(PPO pid=11880)\u001b[0m                    ^^^^^^^^^^^^^^^\n",
      "\u001b[36m(PPO pid=11880)\u001b[0m   File \"c:\\Users\\p.archipczuk\\AppData\\Local\\anaconda3\\envs\\RL\\Lib\\site-packages\\ray\\rllib\\env\\env_runner_group.py\", line 169, in __init__\n",
      "\u001b[36m(PPO pid=11880)\u001b[0m     self._setup(\n",
      "\u001b[36m(PPO pid=11880)\u001b[0m   File \"c:\\Users\\p.archipczuk\\AppData\\Local\\anaconda3\\envs\\RL\\Lib\\site-packages\\ray\\rllib\\env\\env_runner_group.py\", line 260, in _setup\n",
      "\u001b[36m(PPO pid=11880)\u001b[0m     self._local_worker = self._make_worker(\n",
      "\u001b[36m(PPO pid=11880)\u001b[0m                          ^^^^^^^^^^^^^^^^^^\n",
      "\u001b[36m(PPO pid=11880)\u001b[0m   File \"c:\\Users\\p.archipczuk\\AppData\\Local\\anaconda3\\envs\\RL\\Lib\\site-packages\\ray\\rllib\\env\\env_runner_group.py\", line 1109, in _make_worker\n",
      "\u001b[36m(PPO pid=11880)\u001b[0m     worker = cls(\n",
      "\u001b[36m(PPO pid=11880)\u001b[0m              ^^^^\n",
      "\u001b[36m(PPO pid=11880)\u001b[0m   File \"c:\\Users\\p.archipczuk\\AppData\\Local\\anaconda3\\envs\\RL\\Lib\\site-packages\\ray\\rllib\\env\\multi_agent_env_runner.py\", line 79, in __init__\n",
      "\u001b[36m(PPO pid=11880)\u001b[0m     self.make_env()\n",
      "\u001b[36m(PPO pid=11880)\u001b[0m   File \"c:\\Users\\p.archipczuk\\AppData\\Local\\anaconda3\\envs\\RL\\Lib\\site-packages\\ray\\rllib\\env\\multi_agent_env_runner.py\", line 755, in make_env\n",
      "\u001b[36m(PPO pid=11880)\u001b[0m     self.env: MultiAgentEnv = gym.make(\"rllib-multi-agent-env-v0\")\n",
      "\u001b[36m(PPO pid=11880)\u001b[0m                               ^^^^^^^^^^^^^^^^^^^^^^^^^^^^^^^^^^^^\n",
      "\u001b[36m(PPO pid=11880)\u001b[0m   File \"c:\\Users\\p.archipczuk\\AppData\\Local\\anaconda3\\envs\\RL\\Lib\\site-packages\\gymnasium\\envs\\registration.py\", line 801, in make\n",
      "\u001b[36m(PPO pid=11880)\u001b[0m     env = env_creator(**env_spec_kwargs)\n",
      "\u001b[36m(PPO pid=11880)\u001b[0m           ^^^^^^^^^^^^^^^^^^^^^^^^^^^^^^\n",
      "\u001b[36m(PPO pid=11880)\u001b[0m   File \"C:\\Users\\p.archipczuk\\AppData\\Local\\Temp\\ipykernel_35232\\2111506644.py\", line 8, in <lambda>\n",
      "\u001b[36m(PPO pid=11880)\u001b[0m   File \"d:\\mesdocuments\\paul\\gertrude\\travail\\R&D\\projets\\generation_diag\\travail\\src\\FpfEnv_v2.py\", line 64, in __init__\n",
      "\u001b[36m(PPO pid=11880)\u001b[0m     self.dict_cc_a_feux = self._create_dict_cc_a_feux()\n",
      "\u001b[36m(PPO pid=11880)\u001b[0m                           ^^^^^^^^^^^^^^^^^^^^^^^^^^^^^\n",
      "\u001b[36m(PPO pid=11880)\u001b[0m   File \"d:\\mesdocuments\\paul\\gertrude\\travail\\R&D\\projets\\generation_diag\\travail\\src\\FpfEnv_v2.py\", line 130, in _create_dict_cc_a_feux\n",
      "\u001b[36m(PPO pid=11880)\u001b[0m     traci.start([sumolib.checkBinary(\"sumo\"), \"-n\", self._net_file], label=label_conn)\n",
      "\u001b[36m(PPO pid=11880)\u001b[0m   File \"C:\\Program Files (x86)\\Eclipse\\Sumo\\tools\\traci\\main.py\", line 147, in start\n",
      "\u001b[36m(PPO pid=11880)\u001b[0m     result = init(sumoPort, numRetries, \"localhost\", label, sumoProcess, doSwitch, traceFile, traceGetters)\n",
      "\u001b[36m(PPO pid=11880)\u001b[0m              ^^^^^^^^^^^^^^^^^^^^^^^^^^^^^^^^^^^^^^^^^^^^^^^^^^^^^^^^^^^^^^^^^^^^^^^^^^^^^^^^^^^^^^^^^^^^^^\n",
      "\u001b[36m(PPO pid=11880)\u001b[0m   File \"C:\\Program Files (x86)\\Eclipse\\Sumo\\tools\\traci\\main.py\", line 119, in init\n",
      "\u001b[36m(PPO pid=11880)\u001b[0m     return con.getVersion()\n",
      "\u001b[36m(PPO pid=11880)\u001b[0m            ^^^^^^^^^^^^^^^^\n",
      "\u001b[36m(PPO pid=11880)\u001b[0m   File \"C:\\Program Files (x86)\\Eclipse\\Sumo\\tools\\traci\\connection.py\", line 381, in getVersion\n",
      "\u001b[36m(PPO pid=11880)\u001b[0m     result = self._sendCmd(command, None, None)\n",
      "\u001b[36m(PPO pid=11880)\u001b[0m              ^^^^^^^^^^^^^^^^^^^^^^^^^^^^^^^^^^\n",
      "\u001b[36m(PPO pid=11880)\u001b[0m   File \"C:\\Program Files (x86)\\Eclipse\\Sumo\\tools\\traci\\connection.py\", line 231, in _sendCmd\n",
      "\u001b[36m(PPO pid=11880)\u001b[0m     return self._sendExact()\n",
      "\u001b[36m(PPO pid=11880)\u001b[0m            ^^^^^^^^^^^^^^^^^\n",
      "\u001b[36m(PPO pid=11880)\u001b[0m   File \"C:\\Program Files (x86)\\Eclipse\\Sumo\\tools\\traci\\connection.py\", line 137, in _sendExact\n",
      "\u001b[36m(PPO pid=11880)\u001b[0m     raise FatalTraCIError(\"Connection closed by SUMO.\")\n",
      "\u001b[36m(PPO pid=11880)\u001b[0m traci.exceptions.FatalTraCIError: Connection closed by SUMO.\n",
      "\u001b[36m(PPO pid=27712)\u001b[0m 2024-06-24 11:44:26,886\tWARNING deprecation.py:50 -- DeprecationWarning: `AlgorithmConfig.num_cpus_per_worker` has been deprecated. Use `AlgorithmConfig.num_cpus_per_env_runner` instead. This will raise an error in the future!\n",
      "\u001b[36m(PPO pid=27712)\u001b[0m 2024-06-24 11:44:26,886\tWARNING deprecation.py:50 -- DeprecationWarning: `AlgorithmConfig.num_gpus_per_worker` has been deprecated. Use `AlgorithmConfig.num_gpus_per_env_runner` instead. This will raise an error in the future!\n",
      "\u001b[36m(PPO pid=27712)\u001b[0m 2024-06-24 11:44:26,886\tWARNING deprecation.py:50 -- DeprecationWarning: `AlgorithmConfig.num_learner_workers` has been deprecated. Use `AlgorithmConfig.num_learners` instead. This will raise an error in the future!\n",
      "\u001b[36m(PPO pid=27712)\u001b[0m 2024-06-24 11:44:26,886\tWARNING deprecation.py:50 -- DeprecationWarning: `AlgorithmConfig.num_cpus_per_learner_worker` has been deprecated. Use `AlgorithmConfig.num_cpus_per_learner` instead. This will raise an error in the future!\n",
      "\u001b[36m(PPO pid=27712)\u001b[0m 2024-06-24 11:44:26,886\tWARNING deprecation.py:50 -- DeprecationWarning: `AlgorithmConfig.num_gpus_per_learner_worker` has been deprecated. Use `AlgorithmConfig.num_gpus_per_learner` instead. This will raise an error in the future!\n"
     ]
    }
   ],
   "source": [
    "ray.init()"
   ]
  },
  {
   "cell_type": "markdown",
   "metadata": {},
   "source": [
    "## Train our custom environment"
   ]
  },
  {
   "cell_type": "code",
   "execution_count": 88,
   "metadata": {},
   "outputs": [],
   "source": [
    "from ray.tune.registry import register_env, get_trainable_cls\n",
    "from pathlib import Path\n",
    "from gymnasium.spaces import Dict, Discrete, MultiBinary, Box\n",
    "from ray.rllib.examples.rl_modules.classes.action_masking_rlm\n",
    "from ray.rllib.env.wrappers.pettingzoo_env import ParallelPettingZooEnv\n",
    "import numpy as np\n",
    "from FpfEnv_v2 import FeuParFeuEnv\n",
    "from ray.rllib.algorithms.ppo import PPOConfig\n",
    "from ray.rllib.examples.rl_modules.classes.action_masking_rlm import TorchActionMaskRLM\n",
    "from ray.rllib.core.rl_module.marl_module import MultiAgentRLModuleSpec, SingleAgentRLModuleSpec\n",
    "from ray.rllib.algorithms import AlgorithmConfig\n",
    "from ray.rllib.examples.rl_modules.classes.action_masking_rlm import (\n",
    "    TorchActionMaskRLM,\n",
    ")\n"
   ]
  },
  {
   "cell_type": "code",
   "execution_count": 89,
   "metadata": {},
   "outputs": [],
   "source": [
    "net_file = r\"D:\\mesdocuments\\paul\\gertrude\\travail\\R&D\\projets\\generation_diag\\travail\\data\\networks\\2way-single-intersection\\single-intersection.net.xml\"\n",
    "route_file = r\"D:\\mesdocuments\\paul\\gertrude\\travail\\R&D\\projets\\generation_diag\\travail\\data\\networks\\2way-single-intersection\\single-intersection.rou.xml\"\n",
    "\n",
    "base_path = Path(os.path.abspath('')).parent\n",
    "net_file_path = (base_path / net_file).resolve()\n",
    "route_file_path = (base_path / route_file).resolve()\n",
    "\n",
    "register_env('fpf', lambda config : ParallelPettingZooEnv((FeuParFeuEnv(\n",
    "        net_file=net_file,\n",
    "        route_file=route_file,\n",
    "        reward_fn_name='mean_waiting_time',\n",
    "        with_gui=True,\n",
    "        num_seconds=1000\n",
    "))))"
   ]
  },
  {
   "cell_type": "code",
   "execution_count": 90,
   "metadata": {},
   "outputs": [
    {
     "name": "stderr",
     "output_type": "stream",
     "text": [
      "2024-06-24 11:44:18,621\tWARNING deprecation.py:50 -- DeprecationWarning: `AlgorithmConfig.rl_module(_enable_rl_module_api=..)` has been deprecated. Use `AlgorithmConfig.api_stack(enable_rl_module_and_learner=..)` instead. This will raise an error in the future!\n"
     ]
    }
   ],
   "source": [
    "base_config = (get_trainable_cls(\"PPO\")\n",
    "               .get_default_config()\n",
    "               .environment(\n",
    "                   env='fpf',\n",
    "                   action_space = Discrete(3),\n",
    "                   observation_space = Dict({\n",
    "                        \"observations\" : Box(low=0, high=100, shape=(2,), dtype=np.float32),\n",
    "                        \"action_mask\" : MultiBinary(3)\n",
    "                        }\n",
    "                    ),\n",
    "                    \n",
    "                )\n",
    "               .multi_agent(\n",
    "                   policies={\"p0\"},\n",
    "                   # All agents map to the exact same policy.\n",
    "                    policy_mapping_fn=(lambda aid, *args, **kwargs: \"p0\"),\n",
    "               )\n",
    "               .training(\n",
    "                    model={\n",
    "                        \"vf_share_layers\": True,\n",
    "                    },\n",
    "                    vf_loss_coeff=0.005,\n",
    "                )\n",
    "               .rl_module(\n",
    "                    model_config_dict={\n",
    "                        \"post_fcnet_hiddens\": [64, 64],\n",
    "                        \"post_fcnet_activation\": \"relu\",\n",
    "                    },\n",
    "                   rl_module_spec = MultiAgentRLModuleSpec(\n",
    "                       module_specs={\"p0\" : SingleAgentRLModuleSpec(module_class=TorchActionMaskRLM)},\n",
    "                   ),\n",
    "               )\n",
    "    )"
   ]
  },
  {
   "cell_type": "code",
   "execution_count": 91,
   "metadata": {},
   "outputs": [
    {
     "name": "stderr",
     "output_type": "stream",
     "text": [
      "2024-06-24 11:44:19,510\tWARNING deprecation.py:50 -- DeprecationWarning: `AlgorithmConfig.env_runners(num_rollout_workers)` has been deprecated. Use `AlgorithmConfig.env_runners(num_env_runners)` instead. This will raise an error in the future!\n"
     ]
    }
   ],
   "source": [
    "num_rollout_workers = 5\n",
    "rollout_fragment_length = 200\n",
    "\n",
    "\n",
    "config = (\n",
    "    base_config\n",
    "    .rollouts(num_rollout_workers=num_rollout_workers, rollout_fragment_length=rollout_fragment_length)\n",
    "    .framework(framework=\"torch\")\n",
    "    .resources(num_gpus=int(os.environ.get(\"RLLIB_NUM_GPUS\", \"0\")))\n",
    "    .api_stack(enable_rl_module_and_learner=True, enable_env_runner_and_connector_v2 = True)\n",
    ")"
   ]
  },
  {
   "cell_type": "code",
   "execution_count": 92,
   "metadata": {},
   "outputs": [],
   "source": [
    "assert isinstance(config.observation_space, Dict), \"Erreur\""
   ]
  },
  {
   "cell_type": "code",
   "execution_count": 93,
   "metadata": {},
   "outputs": [],
   "source": [
    "# num_rollout_workers = 5\n",
    "# rollout_fragment_length = 200\n",
    "# train_batch_size = num_rollout_workers * rollout_fragment_length\n",
    "# config = (\n",
    "#         get_trainable_cls('PPO')\n",
    "#         .environment(env='fpf')\n",
    "#         .rollouts(num_rollout_workers=num_rollout_workers, rollout_fragment_length=rollout_fragment_length)\n",
    "#         .training(\n",
    "#             train_batch_size=train_batch_size)\n",
    "#         .multi_agent(\n",
    "#                    policies={\"p0\"},\n",
    "#                    # All agents map to the exact same policy.\n",
    "#                     policy_mapping_fn=(lambda aid, *args, **kwargs: \"p0\"),\n",
    "#                )\n",
    "#         .rl_module(\n",
    "#                    model_config_dict = {'vf_share_layers' : True},\n",
    "#                    rl_module_spec = MultiAgentRLModuleSpec(\n",
    "#                        module_specs={\"p0\" : SingleAgentRLModuleSpec(module_class=TorchActionMaskRLM)},\n",
    "#                        marl_module_class=TorchActionMaskRLM,\n",
    "#                    ),\n",
    "#                )\n",
    "#         .experimental(_disable_preprocessor_api=True)\n",
    "#         .debugging(log_level=\"ERROR\")\n",
    "#         .framework(framework=\"torch\")\n",
    "#         .resources(num_gpus=int(os.environ.get(\"RLLIB_NUM_GPUS\", \"0\")))\n",
    "#     )\n"
   ]
  },
  {
   "cell_type": "code",
   "execution_count": 94,
   "metadata": {},
   "outputs": [],
   "source": [
    "# num_rollout_workers = 5\n",
    "# rollout_fragment_length = 200\n",
    "# train_batch_size = num_rollout_workers * rollout_fragment_length\n",
    "# config = (\n",
    "#         PPOConfig()\n",
    "#         .environment(env='fpf')\n",
    "#         .rollouts(num_rollout_workers=num_rollout_workers, rollout_fragment_length=rollout_fragment_length)\n",
    "#         .training(\n",
    "#             train_batch_size=train_batch_size)\n",
    "#         .experimental(_disable_preprocessor_api=True)\n",
    "#         .debugging(log_level=\"ERROR\")\n",
    "#         .framework(framework=\"torch\")\n",
    "#         .resources(num_gpus=int(os.environ.get(\"RLLIB_NUM_GPUS\", \"0\")))\n",
    "#     )"
   ]
  },
  {
   "cell_type": "code",
   "execution_count": 95,
   "metadata": {},
   "outputs": [
    {
     "name": "stderr",
     "output_type": "stream",
     "text": [
      "2024-06-24 11:44:23,387\tINFO tune.py:616 -- [output] This uses the legacy output and progress reporter, as Jupyter notebooks are not supported by the new engine, yet. For more information, please see https://github.com/ray-project/ray/issues/36949\n"
     ]
    },
    {
     "data": {
      "text/html": [
       "<div class=\"tuneStatus\">\n",
       "  <div style=\"display: flex;flex-direction: row\">\n",
       "    <div style=\"display: flex;flex-direction: column;\">\n",
       "      <h3>Tune Status</h3>\n",
       "      <table>\n",
       "<tbody>\n",
       "<tr><td>Current time:</td><td>2024-06-24 11:44:38</td></tr>\n",
       "<tr><td>Running for: </td><td>00:00:15.46        </td></tr>\n",
       "<tr><td>Memory:      </td><td>20.0/31.7 GiB      </td></tr>\n",
       "</tbody>\n",
       "</table>\n",
       "    </div>\n",
       "    <div class=\"vDivider\"></div>\n",
       "    <div class=\"systemInfo\">\n",
       "      <h3>System Info</h3>\n",
       "      Using FIFO scheduling algorithm.<br>Logical resource usage: 0/20 CPUs, 0/1 GPUs (0.0/1.0 accelerator_type:T600)\n",
       "    </div>\n",
       "    <div class=\"vDivider\"></div>\n",
       "<div class=\"messages\">\n",
       "  <h3>Messages</h3>\n",
       "  \n",
       "  \n",
       "  Number of errored trials: 1<br><table>\n",
       "<thead>\n",
       "<tr><th>Trial name         </th><th style=\"text-align: right;\">  # failures</th><th>error file                                                                                                                                                                                 </th></tr>\n",
       "</thead>\n",
       "<tbody>\n",
       "<tr><td>PPO_fpf_567f6_00000</td><td style=\"text-align: right;\">           1</td><td>C:/Users/P23B6~1.ARC/AppData/Local/Temp/ray/session_2024-06-24_11-41-48_974266_35232/artifacts/2024-06-24_11-44-23/PPO/driver_artifacts/PPO_fpf_567f6_00000_0_2024-06-24_11-44-23/error.txt</td></tr>\n",
       "</tbody>\n",
       "</table>\n",
       "</div>\n",
       "<style>\n",
       ".messages {\n",
       "  color: var(--jp-ui-font-color1);\n",
       "  display: flex;\n",
       "  flex-direction: column;\n",
       "  padding-left: 1em;\n",
       "  overflow-y: auto;\n",
       "}\n",
       ".messages h3 {\n",
       "  font-weight: bold;\n",
       "}\n",
       ".vDivider {\n",
       "  border-left-width: var(--jp-border-width);\n",
       "  border-left-color: var(--jp-border-color0);\n",
       "  border-left-style: solid;\n",
       "  margin: 0.5em 1em 0.5em 1em;\n",
       "}\n",
       "</style>\n",
       "\n",
       "  </div>\n",
       "  <div class=\"hDivider\"></div>\n",
       "  <div class=\"trialStatus\">\n",
       "    <h3>Trial Status</h3>\n",
       "    <table>\n",
       "<thead>\n",
       "<tr><th>Trial name         </th><th>status  </th><th>loc  </th></tr>\n",
       "</thead>\n",
       "<tbody>\n",
       "<tr><td>PPO_fpf_567f6_00000</td><td>ERROR   </td><td>     </td></tr>\n",
       "</tbody>\n",
       "</table>\n",
       "  </div>\n",
       "</div>\n",
       "<style>\n",
       ".tuneStatus {\n",
       "  color: var(--jp-ui-font-color1);\n",
       "}\n",
       ".tuneStatus .systemInfo {\n",
       "  display: flex;\n",
       "  flex-direction: column;\n",
       "}\n",
       ".tuneStatus td {\n",
       "  white-space: nowrap;\n",
       "}\n",
       ".tuneStatus .trialStatus {\n",
       "  display: flex;\n",
       "  flex-direction: column;\n",
       "}\n",
       ".tuneStatus h3 {\n",
       "  font-weight: bold;\n",
       "}\n",
       ".tuneStatus .hDivider {\n",
       "  border-bottom-width: var(--jp-border-width);\n",
       "  border-bottom-color: var(--jp-border-color0);\n",
       "  border-bottom-style: solid;\n",
       "}\n",
       ".tuneStatus .vDivider {\n",
       "  border-left-width: var(--jp-border-width);\n",
       "  border-left-color: var(--jp-border-color0);\n",
       "  border-left-style: solid;\n",
       "  margin: 0.5em 1em 0.5em 1em;\n",
       "}\n",
       "</style>\n"
      ],
      "text/plain": [
       "<IPython.core.display.HTML object>"
      ]
     },
     "metadata": {},
     "output_type": "display_data"
    },
    {
     "name": "stderr",
     "output_type": "stream",
     "text": [
      "2024-06-24 11:44:23,389\tWARNING deprecation.py:50 -- DeprecationWarning: `AlgorithmConfig.num_cpus_per_worker` has been deprecated. Use `AlgorithmConfig.num_cpus_per_env_runner` instead. This will raise an error in the future!\n",
      "2024-06-24 11:44:23,389\tWARNING deprecation.py:50 -- DeprecationWarning: `AlgorithmConfig.num_gpus_per_worker` has been deprecated. Use `AlgorithmConfig.num_gpus_per_env_runner` instead. This will raise an error in the future!\n",
      "2024-06-24 11:44:23,389\tWARNING deprecation.py:50 -- DeprecationWarning: `AlgorithmConfig.num_learner_workers` has been deprecated. Use `AlgorithmConfig.num_learners` instead. This will raise an error in the future!\n",
      "2024-06-24 11:44:23,389\tWARNING deprecation.py:50 -- DeprecationWarning: `AlgorithmConfig.num_cpus_per_learner_worker` has been deprecated. Use `AlgorithmConfig.num_cpus_per_learner` instead. This will raise an error in the future!\n",
      "2024-06-24 11:44:23,389\tWARNING deprecation.py:50 -- DeprecationWarning: `AlgorithmConfig.num_gpus_per_learner_worker` has been deprecated. Use `AlgorithmConfig.num_gpus_per_learner` instead. This will raise an error in the future!\n",
      "2024-06-24 11:44:38,838\tERROR tune_controller.py:1331 -- Trial task failed for trial PPO_fpf_567f6_00000\n",
      "Traceback (most recent call last):\n",
      "  File \"c:\\Users\\p.archipczuk\\AppData\\Local\\anaconda3\\envs\\RL\\Lib\\site-packages\\ray\\air\\execution\\_internal\\event_manager.py\", line 110, in resolve_future\n",
      "    result = ray.get(future)\n",
      "             ^^^^^^^^^^^^^^^\n",
      "  File \"c:\\Users\\p.archipczuk\\AppData\\Local\\anaconda3\\envs\\RL\\Lib\\site-packages\\ray\\_private\\auto_init_hook.py\", line 21, in auto_init_wrapper\n",
      "    return fn(*args, **kwargs)\n",
      "           ^^^^^^^^^^^^^^^^^^^\n",
      "  File \"c:\\Users\\p.archipczuk\\AppData\\Local\\anaconda3\\envs\\RL\\Lib\\site-packages\\ray\\_private\\client_mode_hook.py\", line 103, in wrapper\n",
      "    return func(*args, **kwargs)\n",
      "           ^^^^^^^^^^^^^^^^^^^^^\n",
      "  File \"c:\\Users\\p.archipczuk\\AppData\\Local\\anaconda3\\envs\\RL\\Lib\\site-packages\\ray\\_private\\worker.py\", line 2630, in get\n",
      "    values, debugger_breakpoint = worker.get_objects(object_refs, timeout=timeout)\n",
      "                                  ^^^^^^^^^^^^^^^^^^^^^^^^^^^^^^^^^^^^^^^^^^^^^^^^\n",
      "  File \"c:\\Users\\p.archipczuk\\AppData\\Local\\anaconda3\\envs\\RL\\Lib\\site-packages\\ray\\_private\\worker.py\", line 865, in get_objects\n",
      "    raise value\n",
      "ray.exceptions.ActorDiedError: The actor died because of an error raised in its creation task, \u001b[36mray::PPO.__init__()\u001b[39m (pid=27712, ip=127.0.0.1, actor_id=9e4d008ed6c0e0482d3eac4e01000000, repr=PPO)\n",
      "  File \"python\\ray\\_raylet.pyx\", line 1893, in ray._raylet.execute_task\n",
      "  File \"python\\ray\\_raylet.pyx\", line 1834, in ray._raylet.execute_task.function_executor\n",
      "  File \"c:\\Users\\p.archipczuk\\AppData\\Local\\anaconda3\\envs\\RL\\Lib\\site-packages\\ray\\_private\\function_manager.py\", line 691, in actor_method_executor\n",
      "    return method(__ray_actor, *args, **kwargs)\n",
      "           ^^^^^^^^^^^^^^^^^^^^^^^^^^^^^^^^^^^^\n",
      "  File \"c:\\Users\\p.archipczuk\\AppData\\Local\\anaconda3\\envs\\RL\\Lib\\site-packages\\ray\\util\\tracing\\tracing_helper.py\", line 467, in _resume_span\n",
      "    return method(self, *_args, **_kwargs)\n",
      "           ^^^^^^^^^^^^^^^^^^^^^^^^^^^^^^^\n",
      "  File \"c:\\Users\\p.archipczuk\\AppData\\Local\\anaconda3\\envs\\RL\\Lib\\site-packages\\ray\\rllib\\algorithms\\algorithm.py\", line 554, in __init__\n",
      "    super().__init__(\n",
      "  File \"c:\\Users\\p.archipczuk\\AppData\\Local\\anaconda3\\envs\\RL\\Lib\\site-packages\\ray\\tune\\trainable\\trainable.py\", line 158, in __init__\n",
      "    self.setup(copy.deepcopy(self.config))\n",
      "  File \"c:\\Users\\p.archipczuk\\AppData\\Local\\anaconda3\\envs\\RL\\Lib\\site-packages\\ray\\util\\tracing\\tracing_helper.py\", line 467, in _resume_span\n",
      "    return method(self, *_args, **_kwargs)\n",
      "           ^^^^^^^^^^^^^^^^^^^^^^^^^^^^^^^\n",
      "  File \"c:\\Users\\p.archipczuk\\AppData\\Local\\anaconda3\\envs\\RL\\Lib\\site-packages\\ray\\rllib\\algorithms\\algorithm.py\", line 760, in setup\n",
      "    self.learner_group = self.config.build_learner_group(\n",
      "                         ^^^^^^^^^^^^^^^^^^^^^^^^^^^^^^^^\n",
      "  File \"c:\\Users\\p.archipczuk\\AppData\\Local\\anaconda3\\envs\\RL\\Lib\\site-packages\\ray\\rllib\\algorithms\\algorithm_config.py\", line 1117, in build_learner_group\n",
      "    learner_group = LearnerGroup(config=self, module_spec=rl_module_spec)\n",
      "                    ^^^^^^^^^^^^^^^^^^^^^^^^^^^^^^^^^^^^^^^^^^^^^^^^^^^^^\n",
      "  File \"c:\\Users\\p.archipczuk\\AppData\\Local\\anaconda3\\envs\\RL\\Lib\\site-packages\\ray\\rllib\\core\\learner\\learner_group.py\", line 137, in __init__\n",
      "    self._learner.build()\n",
      "  File \"c:\\Users\\p.archipczuk\\AppData\\Local\\anaconda3\\envs\\RL\\Lib\\site-packages\\ray\\rllib\\algorithms\\ppo\\ppo_learner.py\", line 28, in build\n",
      "    super().build()\n",
      "  File \"c:\\Users\\p.archipczuk\\AppData\\Local\\anaconda3\\envs\\RL\\Lib\\site-packages\\ray\\rllib\\core\\learner\\torch\\torch_learner.py\", line 325, in build\n",
      "    super().build()\n",
      "  File \"c:\\Users\\p.archipczuk\\AppData\\Local\\anaconda3\\envs\\RL\\Lib\\site-packages\\ray\\rllib\\core\\learner\\learner.py\", line 319, in build\n",
      "    self._module = self._make_module()\n",
      "                   ^^^^^^^^^^^^^^^^^^^\n",
      "  File \"c:\\Users\\p.archipczuk\\AppData\\Local\\anaconda3\\envs\\RL\\Lib\\site-packages\\ray\\rllib\\core\\learner\\torch\\torch_learner.py\", line 425, in _make_module\n",
      "    module = super()._make_module()\n",
      "             ^^^^^^^^^^^^^^^^^^^^^^\n",
      "  File \"c:\\Users\\p.archipczuk\\AppData\\Local\\anaconda3\\envs\\RL\\Lib\\site-packages\\ray\\rllib\\core\\learner\\learner.py\", line 1567, in _make_module\n",
      "    module = self._module_spec.build()\n",
      "             ^^^^^^^^^^^^^^^^^^^^^^^^^\n",
      "  File \"c:\\Users\\p.archipczuk\\AppData\\Local\\anaconda3\\envs\\RL\\Lib\\site-packages\\ray\\rllib\\core\\rl_module\\marl_module.py\", line 531, in build\n",
      "    module = self.marl_module_class(module_config)\n",
      "             ^^^^^^^^^^^^^^^^^^^^^^^^^^^^^^^^^^^^^\n",
      "  File \"c:\\Users\\p.archipczuk\\AppData\\Local\\anaconda3\\envs\\RL\\Lib\\site-packages\\ray\\rllib\\core\\rl_module\\rl_module.py\", line 418, in new_init\n",
      "    previous_init(self, *args, **kwargs)\n",
      "  File \"c:\\Users\\p.archipczuk\\AppData\\Local\\anaconda3\\envs\\RL\\Lib\\site-packages\\ray\\rllib\\core\\rl_module\\marl_module.py\", line 69, in __init__\n",
      "    super().__init__(config or MultiAgentRLModuleConfig())\n",
      "  File \"c:\\Users\\p.archipczuk\\AppData\\Local\\anaconda3\\envs\\RL\\Lib\\site-packages\\ray\\rllib\\core\\rl_module\\rl_module.py\", line 410, in __init__\n",
      "    self.setup()\n",
      "  File \"c:\\Users\\p.archipczuk\\AppData\\Local\\anaconda3\\envs\\RL\\Lib\\site-packages\\ray\\rllib\\core\\rl_module\\marl_module.py\", line 79, in setup\n",
      "    self._rl_modules[module_id] = module_spec.build()\n",
      "                                  ^^^^^^^^^^^^^^^^^^^\n",
      "  File \"c:\\Users\\p.archipczuk\\AppData\\Local\\anaconda3\\envs\\RL\\Lib\\site-packages\\ray\\rllib\\core\\rl_module\\rl_module.py\", line 102, in build\n",
      "    module = self.module_class(module_config)\n",
      "             ^^^^^^^^^^^^^^^^^^^^^^^^^^^^^^^^\n",
      "  File \"c:\\Users\\p.archipczuk\\AppData\\Local\\anaconda3\\envs\\RL\\Lib\\site-packages\\ray\\rllib\\core\\rl_module\\rl_module.py\", line 418, in new_init\n",
      "    previous_init(self, *args, **kwargs)\n",
      "  File \"c:\\Users\\p.archipczuk\\AppData\\Local\\anaconda3\\envs\\RL\\Lib\\site-packages\\ray\\rllib\\core\\rl_module\\rl_module.py\", line 418, in new_init\n",
      "    previous_init(self, *args, **kwargs)\n",
      "  File \"c:\\Users\\p.archipczuk\\AppData\\Local\\anaconda3\\envs\\RL\\Lib\\site-packages\\ray\\rllib\\examples\\rl_modules\\classes\\action_masking_rlm.py\", line 17, in __init__\n",
      "    raise ValueError(\n",
      "ValueError: This model requires the environment to provide a gym.spaces.Dict observation space.\n"
     ]
    },
    {
     "name": "stdout",
     "output_type": "stream",
     "text": [
      "\u001b[36m(MultiAgentEnvRunner pid=46056)\u001b[0m Step #0.00 (0ms ?*RT. ?UPS, TraCI: 2ms, vehicles TOT 0 ACT 0 BUF 0)                      \n",
      "\u001b[36m(PPO pid=27712)\u001b[0m Step #0.00 (0ms ?*RT. ?UPS, TraCI: 1ms, vehicles TOT 0 ACT 0 BUF 0)                      \u001b[32m [repeated 5x across cluster]\u001b[0m\n"
     ]
    },
    {
     "data": {
      "text/html": [
       "<div class=\"trialProgress\">\n",
       "  <h3>Trial Progress</h3>\n",
       "  <table>\n",
       "<thead>\n",
       "<tr><th>Trial name         </th></tr>\n",
       "</thead>\n",
       "<tbody>\n",
       "<tr><td>PPO_fpf_567f6_00000</td></tr>\n",
       "</tbody>\n",
       "</table>\n",
       "</div>\n",
       "<style>\n",
       ".trialProgress {\n",
       "  display: flex;\n",
       "  flex-direction: column;\n",
       "  color: var(--jp-ui-font-color1);\n",
       "}\n",
       ".trialProgress h3 {\n",
       "  font-weight: bold;\n",
       "}\n",
       ".trialProgress td {\n",
       "  white-space: nowrap;\n",
       "}\n",
       "</style>\n"
      ],
      "text/plain": [
       "<IPython.core.display.HTML object>"
      ]
     },
     "metadata": {},
     "output_type": "display_data"
    },
    {
     "name": "stderr",
     "output_type": "stream",
     "text": [
      "2024-06-24 11:44:38,852\tINFO tune.py:1009 -- Wrote the latest version of all result files and experiment state to 'D:/mesdocuments/paul/gertrude/travail/R&D/projets/generation_diag/travail/outputs/fpf/PPO' in 0.0007s.\n"
     ]
    },
    {
     "name": "stderr",
     "output_type": "stream",
     "text": [
      "\u001b[36m(PPO pid=27712)\u001b[0m Exception raised in creation task: The actor died because of an error raised in its creation task, \u001b[36mray::PPO.__init__()\u001b[39m (pid=27712, ip=127.0.0.1, actor_id=9e4d008ed6c0e0482d3eac4e01000000, repr=PPO)\n",
      "\u001b[36m(PPO pid=27712)\u001b[0m   File \"python\\ray\\_raylet.pyx\", line 1893, in ray._raylet.execute_task\n",
      "\u001b[36m(PPO pid=27712)\u001b[0m   File \"python\\ray\\_raylet.pyx\", line 1834, in ray._raylet.execute_task.function_executor\n",
      "\u001b[36m(PPO pid=27712)\u001b[0m   File \"c:\\Users\\p.archipczuk\\AppData\\Local\\anaconda3\\envs\\RL\\Lib\\site-packages\\ray\\_private\\function_manager.py\", line 691, in actor_method_executor\n",
      "\u001b[36m(PPO pid=27712)\u001b[0m     return method(__ray_actor, *args, **kwargs)\n",
      "\u001b[36m(PPO pid=27712)\u001b[0m            ^^^^^^^^^^^^^^^^^^^^^^^^^^^^^^^^^^^^\n",
      "\u001b[36m(PPO pid=27712)\u001b[0m   File \"c:\\Users\\p.archipczuk\\AppData\\Local\\anaconda3\\envs\\RL\\Lib\\site-packages\\ray\\util\\tracing\\tracing_helper.py\", line 467, in _resume_span\n",
      "\u001b[36m(PPO pid=27712)\u001b[0m     return method(self, *_args, **_kwargs)\n",
      "\u001b[36m(PPO pid=27712)\u001b[0m            ^^^^^^^^^^^^^^^^^^^^^^^^^^^^^^^\n",
      "\u001b[36m(PPO pid=27712)\u001b[0m   File \"c:\\Users\\p.archipczuk\\AppData\\Local\\anaconda3\\envs\\RL\\Lib\\site-packages\\ray\\rllib\\algorithms\\algorithm.py\", line 554, in __init__\n",
      "\u001b[36m(PPO pid=27712)\u001b[0m     super().__init__(\n",
      "\u001b[36m(PPO pid=27712)\u001b[0m   File \"c:\\Users\\p.archipczuk\\AppData\\Local\\anaconda3\\envs\\RL\\Lib\\site-packages\\ray\\tune\\trainable\\trainable.py\", line 158, in __init__\n",
      "\u001b[36m(PPO pid=27712)\u001b[0m     self.setup(copy.deepcopy(self.config))\n",
      "\u001b[36m(PPO pid=27712)\u001b[0m   File \"c:\\Users\\p.archipczuk\\AppData\\Local\\anaconda3\\envs\\RL\\Lib\\site-packages\\ray\\util\\tracing\\tracing_helper.py\", line 467, in _resume_span\n",
      "\u001b[36m(PPO pid=27712)\u001b[0m     return method(self, *_args, **_kwargs)\n",
      "\u001b[36m(PPO pid=27712)\u001b[0m            ^^^^^^^^^^^^^^^^^^^^^^^^^^^^^^^\n",
      "\u001b[36m(PPO pid=27712)\u001b[0m   File \"c:\\Users\\p.archipczuk\\AppData\\Local\\anaconda3\\envs\\RL\\Lib\\site-packages\\ray\\rllib\\algorithms\\algorithm.py\", line 760, in setup\n",
      "\u001b[36m(PPO pid=27712)\u001b[0m     self.learner_group = self.config.build_learner_group(\n",
      "\u001b[36m(PPO pid=27712)\u001b[0m                          ^^^^^^^^^^^^^^^^^^^^^^^^^^^^^^^^\n",
      "\u001b[36m(PPO pid=27712)\u001b[0m   File \"c:\\Users\\p.archipczuk\\AppData\\Local\\anaconda3\\envs\\RL\\Lib\\site-packages\\ray\\rllib\\algorithms\\algorithm_config.py\", line 1117, in build_learner_group\n",
      "\u001b[36m(PPO pid=27712)\u001b[0m     learner_group = LearnerGroup(config=self, module_spec=rl_module_spec)\n",
      "\u001b[36m(PPO pid=27712)\u001b[0m                     ^^^^^^^^^^^^^^^^^^^^^^^^^^^^^^^^^^^^^^^^^^^^^^^^^^^^^\n",
      "\u001b[36m(PPO pid=27712)\u001b[0m   File \"c:\\Users\\p.archipczuk\\AppData\\Local\\anaconda3\\envs\\RL\\Lib\\site-packages\\ray\\rllib\\core\\learner\\learner_group.py\", line 137, in __init__\n",
      "\u001b[36m(PPO pid=27712)\u001b[0m     self._learner.build()\n",
      "\u001b[36m(PPO pid=27712)\u001b[0m   File \"c:\\Users\\p.archipczuk\\AppData\\Local\\anaconda3\\envs\\RL\\Lib\\site-packages\\ray\\rllib\\algorithms\\ppo\\ppo_learner.py\", line 28, in build\n",
      "\u001b[36m(PPO pid=27712)\u001b[0m     super().build()\n",
      "\u001b[36m(PPO pid=27712)\u001b[0m   File \"c:\\Users\\p.archipczuk\\AppData\\Local\\anaconda3\\envs\\RL\\Lib\\site-packages\\ray\\rllib\\core\\learner\\torch\\torch_learner.py\", line 325, in build\n",
      "\u001b[36m(PPO pid=27712)\u001b[0m     super().build()\n",
      "\u001b[36m(PPO pid=27712)\u001b[0m   File \"c:\\Users\\p.archipczuk\\AppData\\Local\\anaconda3\\envs\\RL\\Lib\\site-packages\\ray\\rllib\\core\\learner\\learner.py\", line 319, in build\n",
      "\u001b[36m(PPO pid=27712)\u001b[0m     self._module = self._make_module()\n",
      "\u001b[36m(PPO pid=27712)\u001b[0m                    ^^^^^^^^^^^^^^^^^^^\n",
      "\u001b[36m(PPO pid=27712)\u001b[0m   File \"c:\\Users\\p.archipczuk\\AppData\\Local\\anaconda3\\envs\\RL\\Lib\\site-packages\\ray\\rllib\\core\\learner\\torch\\torch_learner.py\", line 425, in _make_module\n",
      "\u001b[36m(PPO pid=27712)\u001b[0m     module = super()._make_module()\n",
      "\u001b[36m(PPO pid=27712)\u001b[0m              ^^^^^^^^^^^^^^^^^^^^^^\n",
      "\u001b[36m(PPO pid=27712)\u001b[0m   File \"c:\\Users\\p.archipczuk\\AppData\\Local\\anaconda3\\envs\\RL\\Lib\\site-packages\\ray\\rllib\\core\\learner\\learner.py\", line 1567, in _make_module\n",
      "\u001b[36m(PPO pid=27712)\u001b[0m     module = self._module_spec.build()\n",
      "\u001b[36m(PPO pid=27712)\u001b[0m              ^^^^^^^^^^^^^^^^^^^^^^^^^\n",
      "\u001b[36m(PPO pid=27712)\u001b[0m   File \"c:\\Users\\p.archipczuk\\AppData\\Local\\anaconda3\\envs\\RL\\Lib\\site-packages\\ray\\rllib\\core\\rl_module\\marl_module.py\", line 531, in build\n",
      "\u001b[36m(PPO pid=27712)\u001b[0m     module = self.marl_module_class(module_config)\n",
      "\u001b[36m(PPO pid=27712)\u001b[0m              ^^^^^^^^^^^^^^^^^^^^^^^^^^^^^^^^^^^^^\n",
      "\u001b[36m(PPO pid=27712)\u001b[0m   File \"c:\\Users\\p.archipczuk\\AppData\\Local\\anaconda3\\envs\\RL\\Lib\\site-packages\\ray\\rllib\\core\\rl_module\\rl_module.py\", line 418, in new_init\n",
      "\u001b[36m(PPO pid=27712)\u001b[0m     previous_init(self, *args, **kwargs)\n",
      "\u001b[36m(PPO pid=27712)\u001b[0m   File \"c:\\Users\\p.archipczuk\\AppData\\Local\\anaconda3\\envs\\RL\\Lib\\site-packages\\ray\\rllib\\core\\rl_module\\marl_module.py\", line 69, in __init__\n",
      "\u001b[36m(PPO pid=27712)\u001b[0m     super().__init__(config or MultiAgentRLModuleConfig())\n",
      "\u001b[36m(PPO pid=27712)\u001b[0m   File \"c:\\Users\\p.archipczuk\\AppData\\Local\\anaconda3\\envs\\RL\\Lib\\site-packages\\ray\\rllib\\core\\rl_module\\rl_module.py\", line 410, in __init__\n",
      "\u001b[36m(PPO pid=27712)\u001b[0m     self.setup()\n",
      "\u001b[36m(PPO pid=27712)\u001b[0m   File \"c:\\Users\\p.archipczuk\\AppData\\Local\\anaconda3\\envs\\RL\\Lib\\site-packages\\ray\\rllib\\core\\rl_module\\marl_module.py\", line 79, in setup\n",
      "\u001b[36m(PPO pid=27712)\u001b[0m     self._rl_modules[module_id] = module_spec.build()\n",
      "\u001b[36m(PPO pid=27712)\u001b[0m                                   ^^^^^^^^^^^^^^^^^^^\n",
      "\u001b[36m(PPO pid=27712)\u001b[0m   File \"c:\\Users\\p.archipczuk\\AppData\\Local\\anaconda3\\envs\\RL\\Lib\\site-packages\\ray\\rllib\\core\\rl_module\\rl_module.py\", line 102, in build\n",
      "\u001b[36m(PPO pid=27712)\u001b[0m     module = self.module_class(module_config)\n",
      "\u001b[36m(PPO pid=27712)\u001b[0m              ^^^^^^^^^^^^^^^^^^^^^^^^^^^^^^^^\n",
      "\u001b[36m(PPO pid=27712)\u001b[0m   File \"c:\\Users\\p.archipczuk\\AppData\\Local\\anaconda3\\envs\\RL\\Lib\\site-packages\\ray\\rllib\\core\\rl_module\\rl_module.py\", line 418, in new_init\n",
      "\u001b[36m(PPO pid=27712)\u001b[0m     previous_init(self, *args, **kwargs)\n",
      "\u001b[36m(PPO pid=27712)\u001b[0m   File \"c:\\Users\\p.archipczuk\\AppData\\Local\\anaconda3\\envs\\RL\\Lib\\site-packages\\ray\\rllib\\core\\rl_module\\rl_module.py\", line 418, in new_init\n",
      "\u001b[36m(PPO pid=27712)\u001b[0m     previous_init(self, *args, **kwargs)\n",
      "\u001b[36m(PPO pid=27712)\u001b[0m   File \"c:\\Users\\p.archipczuk\\AppData\\Local\\anaconda3\\envs\\RL\\Lib\\site-packages\\ray\\rllib\\examples\\rl_modules\\classes\\action_masking_rlm.py\", line 17, in __init__\n",
      "\u001b[36m(PPO pid=27712)\u001b[0m     raise ValueError(\n",
      "\u001b[36m(PPO pid=27712)\u001b[0m ValueError: This model requires the environment to provide a gym.spaces.Dict observation space.\n"
     ]
    },
    {
     "ename": "TuneError",
     "evalue": "('Trials did not complete', [PPO_fpf_567f6_00000])",
     "output_type": "error",
     "traceback": [
      "\u001b[1;31m---------------------------------------------------------------------------\u001b[0m",
      "\u001b[1;31mTuneError\u001b[0m                                 Traceback (most recent call last)",
      "Cell \u001b[1;32mIn[95], line 1\u001b[0m\n\u001b[1;32m----> 1\u001b[0m tune\u001b[38;5;241m.\u001b[39mrun(\n\u001b[0;32m      2\u001b[0m         \u001b[38;5;124m\"\u001b[39m\u001b[38;5;124mPPO\u001b[39m\u001b[38;5;124m\"\u001b[39m,\n\u001b[0;32m      3\u001b[0m         name\u001b[38;5;241m=\u001b[39m\u001b[38;5;124m\"\u001b[39m\u001b[38;5;124mPPO\u001b[39m\u001b[38;5;124m\"\u001b[39m,\n\u001b[0;32m      4\u001b[0m         stop\u001b[38;5;241m=\u001b[39m{\u001b[38;5;124m\"\u001b[39m\u001b[38;5;124mnum_episodes\u001b[39m\u001b[38;5;124m\"\u001b[39m: \u001b[38;5;241m1\u001b[39m},\n\u001b[0;32m      5\u001b[0m         checkpoint_freq\u001b[38;5;241m=\u001b[39m\u001b[38;5;241m100\u001b[39m,\n\u001b[0;32m      6\u001b[0m         storage_path\u001b[38;5;241m=\u001b[39m\u001b[38;5;124mr\u001b[39m\u001b[38;5;124m\"\u001b[39m\u001b[38;5;124mD:\u001b[39m\u001b[38;5;124m\\\u001b[39m\u001b[38;5;124mmesdocuments\u001b[39m\u001b[38;5;124m\\\u001b[39m\u001b[38;5;124mpaul\u001b[39m\u001b[38;5;124m\\\u001b[39m\u001b[38;5;124mgertrude\u001b[39m\u001b[38;5;124m\\\u001b[39m\u001b[38;5;124mtravail\u001b[39m\u001b[38;5;124m\\\u001b[39m\u001b[38;5;124mR&D\u001b[39m\u001b[38;5;124m\\\u001b[39m\u001b[38;5;124mprojets\u001b[39m\u001b[38;5;124m\\\u001b[39m\u001b[38;5;124mgeneration_diag\u001b[39m\u001b[38;5;124m\\\u001b[39m\u001b[38;5;124mtravail\u001b[39m\u001b[38;5;124m\\\u001b[39m\u001b[38;5;124moutputs\u001b[39m\u001b[38;5;124m\\\u001b[39m\u001b[38;5;124mfpf\u001b[39m\u001b[38;5;124m\"\u001b[39m,\n\u001b[0;32m      7\u001b[0m         config\u001b[38;5;241m=\u001b[39mconfig\u001b[38;5;241m.\u001b[39mto_dict(),\n\u001b[0;32m      8\u001b[0m     )\n",
      "File \u001b[1;32mc:\\Users\\p.archipczuk\\AppData\\Local\\anaconda3\\envs\\RL\\Lib\\site-packages\\ray\\tune\\tune.py:1035\u001b[0m, in \u001b[0;36mrun\u001b[1;34m(run_or_experiment, name, metric, mode, stop, time_budget_s, config, resources_per_trial, num_samples, storage_path, storage_filesystem, search_alg, scheduler, checkpoint_config, verbose, progress_reporter, log_to_file, trial_name_creator, trial_dirname_creator, sync_config, export_formats, max_failures, fail_fast, restore, resume, resume_config, reuse_actors, raise_on_failed_trial, callbacks, max_concurrent_trials, keep_checkpoints_num, checkpoint_score_attr, checkpoint_freq, checkpoint_at_end, chdir_to_trial_dir, local_dir, _remote, _remote_string_queue, _entrypoint)\u001b[0m\n\u001b[0;32m   1033\u001b[0m \u001b[38;5;28;01mif\u001b[39;00m incomplete_trials:\n\u001b[0;32m   1034\u001b[0m     \u001b[38;5;28;01mif\u001b[39;00m raise_on_failed_trial \u001b[38;5;129;01mand\u001b[39;00m \u001b[38;5;129;01mnot\u001b[39;00m experiment_interrupted_event\u001b[38;5;241m.\u001b[39mis_set():\n\u001b[1;32m-> 1035\u001b[0m         \u001b[38;5;28;01mraise\u001b[39;00m TuneError(\u001b[38;5;124m\"\u001b[39m\u001b[38;5;124mTrials did not complete\u001b[39m\u001b[38;5;124m\"\u001b[39m, incomplete_trials)\n\u001b[0;32m   1036\u001b[0m     \u001b[38;5;28;01melse\u001b[39;00m:\n\u001b[0;32m   1037\u001b[0m         logger\u001b[38;5;241m.\u001b[39merror(\u001b[38;5;124m\"\u001b[39m\u001b[38;5;124mTrials did not complete: \u001b[39m\u001b[38;5;132;01m%s\u001b[39;00m\u001b[38;5;124m\"\u001b[39m, incomplete_trials)\n",
      "\u001b[1;31mTuneError\u001b[0m: ('Trials did not complete', [PPO_fpf_567f6_00000])"
     ]
    }
   ],
   "source": [
    "tune.run(\n",
    "        \"PPO\",\n",
    "        name=\"PPO\",\n",
    "        stop={\"num_episodes\": 1},\n",
    "        checkpoint_freq=100,\n",
    "        storage_path=r\"D:\\mesdocuments\\paul\\gertrude\\travail\\R&D\\projets\\generation_diag\\travail\\outputs\\fpf\",\n",
    "        config=config.to_dict(),\n",
    "    )"
   ]
  },
  {
   "cell_type": "code",
   "execution_count": null,
   "metadata": {},
   "outputs": [],
   "source": []
  },
  {
   "cell_type": "code",
   "execution_count": null,
   "metadata": {},
   "outputs": [],
   "source": []
  },
  {
   "cell_type": "markdown",
   "metadata": {},
   "source": [
    "## Test for Custom env"
   ]
  },
  {
   "cell_type": "code",
   "execution_count": null,
   "metadata": {},
   "outputs": [],
   "source": [
    "net_file = r\"..\\data\\networks\\2way-single-intersection\\single-intersection.net.xml\"\n",
    "route_file = r\"..\\data\\networks\\2way-single-intersection\\single-intersection.rou.xml\"\n",
    "\n",
    "base_path = Path(os.path.abspath('')).parent\n",
    "net_file_path = (base_path / net_file).resolve()\n",
    "route_file_path = (base_path / route_file).resolve()\n",
    "\n",
    "env = FeuParFeuEnv(\n",
    "        net_file=net_file,\n",
    "        route_file=route_file,\n",
    "        reward_fn_name='green',\n",
    "        with_gui=True,\n",
    "        num_seconds=3600\n",
    ")\n",
    "\n",
    "for _ in range(1):\n",
    "    obs, infos = env.reset()\n",
    "    while True:\n",
    "        actions = {agent: env.action_space(agent).sample(obs['action_mask']) for agent in env.agents}\n",
    "        observations, rewards, terminations, truncations, infos = env.step(actions)\n",
    "        if all(terminations.values()) or any(truncations.values()):\n",
    "            break"
   ]
  },
  {
   "cell_type": "code",
   "execution_count": 48,
   "metadata": {},
   "outputs": [],
   "source": [
    "import numpy as np\n",
    "\n",
    "class Test():\n",
    "    def __init__(self) -> None:\n",
    "        print(\"init\")\n",
    "        self.possible_actions = ['g', 'y', 'r']\n",
    "        self.consecutive_durations = {state : 0 for state in self.possible_actions}\n",
    "        self.cumulated_durations = {state : 0 for state in self.possible_actions}  \n",
    "        print(f\"self.consecutive_durations : {self.consecutive_durations}\") \n",
    "        print(f\"self.cumulated_durations : {self.cumulated_durations}\")\n",
    "\n",
    "    def update(self, state: str):\n",
    "        \"\"\"\"Update all the values related to this Feu such as cumulated green time etc\n",
    "        Args:\n",
    "            state (str): should be 'g', 'y' or 'r' \n",
    "        \"\"\"\n",
    "        print(\"----------------UPDATE-----------------\")\n",
    "        new = {key : value + 1 if key == state else 0 for key, value in self.consecutive_durations.items()}\n",
    "        self.consecutive_durations.update(new)\n",
    "        self.cumulated_durations[state] += 1\n",
    "        print(f\"new self.consecutive_durations : {self.consecutive_durations} \")\n",
    "        print(f\"new self.cumulated_durations : {self.cumulated_durations} \")\n",
    "\n",
    "    def compute_action_mask(self, state) -> np.array:\n",
    "        \"\"\"Return the action mask for the Feu.\n",
    "        Should be a list or array with\n",
    "        1 : valid action\n",
    "        0 : invalid action\n",
    "        \"\"\"\n",
    "        print(\"----------------COMPUTE ACTION MASK-----------------\")\n",
    "        current_state = state\n",
    "        print(f\"current_state : {current_state}\")\n",
    "        print(f\"self.consecutive_durations : {self.consecutive_durations}\")\n",
    "        if current_state == \"g\":\n",
    "            # ctr vert min\n",
    "            if self.consecutive_durations[\"g\"] < 6:\n",
    "                action_mask = np.array([1, 0, 0], dtype=np.int8)\n",
    "            else:\n",
    "                action_mask = np.array([1, 1, 0], dtype=np.int8)\n",
    "        elif current_state == \"y\":\n",
    "            # ctr orange \n",
    "            if self.consecutive_durations[\"y\"] < 3:\n",
    "                action_mask = np.array([0, 1, 0], dtype=np.int8)\n",
    "            elif self.consecutive_durations[\"y\"] == 3:\n",
    "                action_mask = np.array([0, 0, 1], dtype=np.int8)\n",
    "            else:\n",
    "                raise Exception(f\"Impossible d'avoir plus de 3 sec de orange.\\nself.consecutive_durations : {self.consecutive_durations['y']}\")\n",
    "                #action_mask = np.array([0, 0, 1], dtype=np.int8)\n",
    "        else:\n",
    "            # ctr rouge max\n",
    "            if self.consecutive_durations[\"r\"] >= 120:\n",
    "                action_mask = np.array([1, 0, 0], dtype=np.int8)\n",
    "            else:\n",
    "                action_mask = np.array([1, 0, 1], dtype=np.int8)\n",
    "        print(f\"action_mask : {action_mask}\")\n",
    "        return action_mask\n",
    "    \n",
    "    def process(self, state: str):\n",
    "        self.update(state=state)\n",
    "        self.compute_action_mask(state=state)\n"
   ]
  },
  {
   "cell_type": "code",
   "execution_count": 81,
   "metadata": {},
   "outputs": [
    {
     "name": "stdout",
     "output_type": "stream",
     "text": [
      "init\n",
      "self.consecutive_durations : {'g': 0, 'y': 0, 'r': 0}\n",
      "self.cumulated_durations : {'g': 0, 'y': 0, 'r': 0}\n"
     ]
    }
   ],
   "source": [
    "t = Test()"
   ]
  },
  {
   "cell_type": "code",
   "execution_count": 87,
   "metadata": {},
   "outputs": [
    {
     "name": "stdout",
     "output_type": "stream",
     "text": [
      "----------------UPDATE-----------------\n",
      "new self.consecutive_durations : {'g': 6, 'y': 0, 'r': 0} \n",
      "new self.cumulated_durations : {'g': 6, 'y': 0, 'r': 0} \n",
      "----------------COMPUTE ACTION MASK-----------------\n",
      "current_state : g\n",
      "self.consecutive_durations : {'g': 6, 'y': 0, 'r': 0}\n",
      "action_mask : [1 1 0]\n"
     ]
    }
   ],
   "source": [
    "t.process(state='y')"
   ]
  },
  {
   "cell_type": "code",
   "execution_count": 2,
   "metadata": {},
   "outputs": [],
   "source": [
    "import numpy as np"
   ]
  },
  {
   "cell_type": "code",
   "execution_count": 6,
   "metadata": {},
   "outputs": [
    {
     "data": {
      "text/plain": [
       "2"
      ]
     },
     "execution_count": 6,
     "metadata": {},
     "output_type": "execute_result"
    }
   ],
   "source": [
    "action = np.random.choice(np.array([0, 2]))\n",
    "action"
   ]
  },
  {
   "cell_type": "code",
   "execution_count": null,
   "metadata": {},
   "outputs": [],
   "source": []
  }
 ],
 "metadata": {
  "kernelspec": {
   "display_name": "RL",
   "language": "python",
   "name": "python3"
  },
  "language_info": {
   "codemirror_mode": {
    "name": "ipython",
    "version": 3
   },
   "file_extension": ".py",
   "mimetype": "text/x-python",
   "name": "python",
   "nbconvert_exporter": "python",
   "pygments_lexer": "ipython3",
   "version": "3.11.7"
  }
 },
 "nbformat": 4,
 "nbformat_minor": 2
}
