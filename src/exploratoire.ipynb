{
 "cells": [
  {
   "cell_type": "markdown",
   "metadata": {},
   "source": [
    "# Test utilisation Ray[rllib]"
   ]
  },
  {
   "cell_type": "code",
   "execution_count": 7,
   "metadata": {},
   "outputs": [],
   "source": [
    "import ray\n",
    "from ray import tune\n",
    "import os"
   ]
  },
  {
   "cell_type": "code",
   "execution_count": null,
   "metadata": {},
   "outputs": [],
   "source": [
    "ray.init()"
   ]
  },
  {
   "cell_type": "markdown",
   "metadata": {},
   "source": [
    "## Train our custom environment"
   ]
  },
  {
   "cell_type": "code",
   "execution_count": 37,
   "metadata": {},
   "outputs": [],
   "source": [
    "from ray.tune.registry import register_env\n",
    "from pathlib import Path\n",
    "from ray.rllib.env.wrappers.pettingzoo_env import ParallelPettingZooEnv\n",
    "from FpfEnv_v2 import FeuParFeuEnv\n",
    "from ray.rllib.algorithms.ppo import PPOConfig"
   ]
  },
  {
   "cell_type": "code",
   "execution_count": 41,
   "metadata": {},
   "outputs": [],
   "source": [
    "net_file = r\"..\\data\\networks\\2way-single-intersection\\single-intersection.net.xml\"\n",
    "route_file = r\"..\\data\\networks\\2way-single-intersection\\single-intersection.rou.xml\"\n",
    "\n",
    "base_path = Path(os.path.abspath('')).parent\n",
    "net_file_path = (base_path / net_file).resolve()\n",
    "route_file_path = (base_path / route_file).resolve()\n",
    "\n",
    "register_env('fpf', lambda config : ParallelPettingZooEnv((FeuParFeuEnv(\n",
    "        net_file=net_file,\n",
    "        route_file=route_file,\n",
    "        reward_fn_name='arrived_vehicles',\n",
    "        with_gui=True,\n",
    "        num_seconds=3600\n",
    "))))"
   ]
  },
  {
   "cell_type": "code",
   "execution_count": null,
   "metadata": {},
   "outputs": [],
   "source": [
    "num_rollout_workers = 4\n",
    "rollout_fragment_length = 360\n",
    "train_batch_size = num_rollout_workers * rollout_fragment_length\n",
    "config = (\n",
    "        PPOConfig()\n",
    "        .environment(env='fpf')\n",
    "        .rollouts(num_rollout_workers=num_rollout_workers, rollout_fragment_length=rollout_fragment_length)\n",
    "        .training(\n",
    "            train_batch_size=train_batch_size)\n",
    "        .experimental(_disable_preprocessor_api=True)\n",
    "        .debugging(log_level=\"ERROR\")\n",
    "        .framework(framework=\"torch\")\n",
    "        .resources(num_gpus=int(os.environ.get(\"RLLIB_NUM_GPUS\", \"0\")))\n",
    "    )"
   ]
  },
  {
   "cell_type": "code",
   "execution_count": null,
   "metadata": {},
   "outputs": [],
   "source": [
    "tune.run(\n",
    "        \"PPO\",\n",
    "        name=\"PPO\",\n",
    "        stop={\"num_episodes\": 5 if not os.environ.get(\"CI\") else 2},\n",
    "        checkpoint_freq=50,\n",
    "        local_dir=r\"\\..\\outputs\\fpf\",\n",
    "        config=config.to_dict(),\n",
    "    )"
   ]
  },
  {
   "cell_type": "markdown",
   "metadata": {},
   "source": [
    "## Test for Custom env"
   ]
  },
  {
   "cell_type": "code",
   "execution_count": null,
   "metadata": {},
   "outputs": [],
   "source": [
    "net_file = r\"D:\\mesdocuments\\paul\\gertrude\\travail\\R&D\\projets\\generation_diag\\travail\\data\\networks\\2way-single-intersection\\single-intersection.net.xml\"\n",
    "route_file = r\"D:\\mesdocuments\\paul\\gertrude\\travail\\R&D\\projets\\generation_diag\\travail\\data\\networks\\2way-single-intersection\\single-intersection.rou.xml\"\n",
    "\n",
    "env = FeuParFeuEnv(\n",
    "        net_file=net_file,\n",
    "        route_file=route_file,\n",
    "        reward_fn_name='green',\n",
    "        with_gui=True,\n",
    "        num_seconds=3600\n",
    ")\n",
    "\n",
    "for _ in range(1):\n",
    "    obs, infos = env.reset()\n",
    "    while True:\n",
    "        actions = {agent: env.action_space(agent).sample(obs['action_mask']) for agent in env.agents}\n",
    "        observations, rewards, terminations, truncations, infos = env.step(actions)\n",
    "        if all(terminations.values()) or any(truncations.values()):\n",
    "            break"
   ]
  },
  {
   "cell_type": "code",
   "execution_count": 48,
   "metadata": {},
   "outputs": [],
   "source": [
    "import numpy as np\n",
    "\n",
    "class Test():\n",
    "    def __init__(self) -> None:\n",
    "        print(\"init\")\n",
    "        self.possible_actions = ['g', 'y', 'r']\n",
    "        self.consecutive_durations = {state : 0 for state in self.possible_actions}\n",
    "        self.cumulated_durations = {state : 0 for state in self.possible_actions}  \n",
    "        print(f\"self.consecutive_durations : {self.consecutive_durations}\") \n",
    "        print(f\"self.cumulated_durations : {self.cumulated_durations}\")\n",
    "\n",
    "    def update(self, state: str):\n",
    "        \"\"\"\"Update all the values related to this Feu such as cumulated green time etc\n",
    "        Args:\n",
    "            state (str): should be 'g', 'y' or 'r' \n",
    "        \"\"\"\n",
    "        print(\"----------------UPDATE-----------------\")\n",
    "        new = {key : value + 1 if key == state else 0 for key, value in self.consecutive_durations.items()}\n",
    "        self.consecutive_durations.update(new)\n",
    "        self.cumulated_durations[state] += 1\n",
    "        print(f\"new self.consecutive_durations : {self.consecutive_durations} \")\n",
    "        print(f\"new self.cumulated_durations : {self.cumulated_durations} \")\n",
    "\n",
    "    def compute_action_mask(self, state) -> np.array:\n",
    "        \"\"\"Return the action mask for the Feu.\n",
    "        Should be a list or array with\n",
    "        1 : valid action\n",
    "        0 : invalid action\n",
    "        \"\"\"\n",
    "        print(\"----------------COMPUTE ACTION MASK-----------------\")\n",
    "        current_state = state\n",
    "        print(f\"current_state : {current_state}\")\n",
    "        print(f\"self.consecutive_durations : {self.consecutive_durations}\")\n",
    "        if current_state == \"g\":\n",
    "            # ctr vert min\n",
    "            if self.consecutive_durations[\"g\"] < 6:\n",
    "                action_mask = np.array([1, 0, 0], dtype=np.int8)\n",
    "            else:\n",
    "                action_mask = np.array([1, 1, 0], dtype=np.int8)\n",
    "        elif current_state == \"y\":\n",
    "            # ctr orange \n",
    "            if self.consecutive_durations[\"y\"] < 3:\n",
    "                action_mask = np.array([0, 1, 0], dtype=np.int8)\n",
    "            elif self.consecutive_durations[\"y\"] == 3:\n",
    "                action_mask = np.array([0, 0, 1], dtype=np.int8)\n",
    "            else:\n",
    "                raise Exception(f\"Impossible d'avoir plus de 3 sec de orange.\\nself.consecutive_durations : {self.consecutive_durations['y']}\")\n",
    "                #action_mask = np.array([0, 0, 1], dtype=np.int8)\n",
    "        else:\n",
    "            # ctr rouge max\n",
    "            if self.consecutive_durations[\"r\"] >= 120:\n",
    "                action_mask = np.array([1, 0, 0], dtype=np.int8)\n",
    "            else:\n",
    "                action_mask = np.array([1, 0, 1], dtype=np.int8)\n",
    "        print(f\"action_mask : {action_mask}\")\n",
    "        return action_mask\n",
    "    \n",
    "    def process(self, state: str):\n",
    "        self.update(state=state)\n",
    "        self.compute_action_mask(state=state)\n"
   ]
  },
  {
   "cell_type": "code",
   "execution_count": 81,
   "metadata": {},
   "outputs": [
    {
     "name": "stdout",
     "output_type": "stream",
     "text": [
      "init\n",
      "self.consecutive_durations : {'g': 0, 'y': 0, 'r': 0}\n",
      "self.cumulated_durations : {'g': 0, 'y': 0, 'r': 0}\n"
     ]
    }
   ],
   "source": [
    "t = Test()"
   ]
  },
  {
   "cell_type": "code",
   "execution_count": 87,
   "metadata": {},
   "outputs": [
    {
     "name": "stdout",
     "output_type": "stream",
     "text": [
      "----------------UPDATE-----------------\n",
      "new self.consecutive_durations : {'g': 6, 'y': 0, 'r': 0} \n",
      "new self.cumulated_durations : {'g': 6, 'y': 0, 'r': 0} \n",
      "----------------COMPUTE ACTION MASK-----------------\n",
      "current_state : g\n",
      "self.consecutive_durations : {'g': 6, 'y': 0, 'r': 0}\n",
      "action_mask : [1 1 0]\n"
     ]
    }
   ],
   "source": [
    "t.process(state='y')"
   ]
  }
 ],
 "metadata": {
  "kernelspec": {
   "display_name": "RL",
   "language": "python",
   "name": "python3"
  },
  "language_info": {
   "codemirror_mode": {
    "name": "ipython",
    "version": 3
   },
   "file_extension": ".py",
   "mimetype": "text/x-python",
   "name": "python",
   "nbconvert_exporter": "python",
   "pygments_lexer": "ipython3",
   "version": "3.11.7"
  }
 },
 "nbformat": 4,
 "nbformat_minor": 2
}
